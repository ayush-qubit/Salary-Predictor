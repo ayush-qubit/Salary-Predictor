{
  "nbformat": 4,
  "nbformat_minor": 0,
  "metadata": {
    "language_info": {
      "codemirror_mode": {
        "name": "ipython",
        "version": 3
      },
      "file_extension": ".py",
      "mimetype": "text/x-python",
      "name": "python",
      "nbconvert_exporter": "python",
      "pygments_lexer": "ipython3",
      "version": "3.8.2-final"
    },
    "orig_nbformat": 2,
    "kernelspec": {
      "name": "python38264bit8802cf4ffc9a41cd9a974cfb35467a40",
      "display_name": "Python 3.8.2 64-bit"
    },
    "colab": {
      "name": "salary_predictor.ipynb",
      "provenance": [],
      "include_colab_link": true
    }
  },
  "cells": [
    {
      "cell_type": "markdown",
      "metadata": {
        "id": "view-in-github",
        "colab_type": "text"
      },
      "source": [
        "<a href=\"https://colab.research.google.com/github/ayush-qubit/Salary-Predictor/blob/master/salary_predictor.ipynb\" target=\"_parent\"><img src=\"https://colab.research.google.com/assets/colab-badge.svg\" alt=\"Open In Colab\"/></a>"
      ]
    },
    {
      "cell_type": "code",
      "metadata": {
        "id": "2-ptG2CcT93d",
        "colab_type": "code",
        "colab": {}
      },
      "source": [
        "import pandas as pd\n",
        "from sklearn import model_selection\n",
        "from sklearn.linear_model import LinearRegression\n",
        "from sklearn.model_selection import train_test_split\n",
        "from sklearn import metrics\n",
        "import matplotlib.pyplot as plt\n",
        "import random\n",
        "import numpy as np"
      ],
      "execution_count": 34,
      "outputs": []
    },
    {
      "cell_type": "code",
      "metadata": {
        "tags": [],
        "id": "21FyxyRJT93l",
        "colab_type": "code",
        "colab": {}
      },
      "source": [
        "dataset=pd.read_csv('https://raw.githubusercontent.com/ayush-qubit/Salary-Predictor/master/Salary_Data.csv')"
      ],
      "execution_count": 35,
      "outputs": []
    },
    {
      "cell_type": "code",
      "metadata": {
        "id": "JBtCQvAXT93q",
        "colab_type": "code",
        "colab": {}
      },
      "source": [
        "X=dataset.iloc[:,0].values\n",
        "Y=dataset.iloc[:,1].values"
      ],
      "execution_count": 36,
      "outputs": []
    },
    {
      "cell_type": "code",
      "metadata": {
        "tags": [],
        "id": "o3ae0YfFT93v",
        "colab_type": "code",
        "colab": {}
      },
      "source": [
        "X_train,X_test,Y_train,Y_test=train_test_split(X,Y,test_size=1/3,random_state=1)"
      ],
      "execution_count": 81,
      "outputs": []
    },
    {
      "cell_type": "code",
      "metadata": {
        "tags": [],
        "id": "aaugq6s-T93z",
        "colab_type": "code",
        "colab": {
          "base_uri": "https://localhost:8080/",
          "height": 34
        },
        "outputId": "0edcd69f-8191-4f43-c133-c227650faf50"
      },
      "source": [
        "lm=LinearRegression()\n",
        "lm.fit(X_train.reshape(-1,1),Y_train.reshape(-1,1))"
      ],
      "execution_count": 82,
      "outputs": [
        {
          "output_type": "execute_result",
          "data": {
            "text/plain": [
              "LinearRegression(copy_X=True, fit_intercept=True, n_jobs=None, normalize=False)"
            ]
          },
          "metadata": {
            "tags": []
          },
          "execution_count": 82
        }
      ]
    },
    {
      "cell_type": "code",
      "metadata": {
        "id": "46qFrBrST934",
        "colab_type": "code",
        "colab": {
          "base_uri": "https://localhost:8080/",
          "height": 67
        },
        "outputId": "738a427a-6158-46cb-dbd6-563c7ccc8a0d"
      },
      "source": [
        "Y_pred=lm.predict(X_test.reshape(-1,1))\n",
        "print(Y_pred.reshape(1,-1))"
      ],
      "execution_count": 83,
      "outputs": [
        {
          "output_type": "stream",
          "text": [
            "[[ 74675.37776747  91160.02832519  61853.98288925  81086.07520659\n",
            "   67348.86640849  88412.58656557 113139.56240215  44453.51841166\n",
            "  105813.05104316  98486.53968418]]\n"
          ],
          "name": "stdout"
        }
      ]
    },
    {
      "cell_type": "code",
      "metadata": {
        "tags": [],
        "id": "NUyeJDpxT94F",
        "colab_type": "code",
        "colab": {
          "base_uri": "https://localhost:8080/",
          "height": 295
        },
        "outputId": "c2214a22-7456-41fd-f483-23a674862e2b"
      },
      "source": [
        "plt.scatter(X_test,Y_pred.reshape(1,-1)[0],color='red')\n",
        "plt.scatter(X_test,Y_test,color='blue')\n",
        "plt.title('Test Data')\n",
        "plt.xlabel('Year of experience')\n",
        "plt.ylabel('Salary')\n",
        "plt.show()"
      ],
      "execution_count": 84,
      "outputs": [
        {
          "output_type": "display_data",
          "data": {
            "image/png": "[encoded data removed]",
            "text/plain": [
              "<Figure size 432x288 with 1 Axes>"
            ]
          },
          "metadata": {
            "tags": [],
            "needs_background": "light"
          }
        }
      ]
    },
    {
      "cell_type": "code",
      "metadata": {
        "id": "uManpmb9VyB8",
        "colab_type": "code",
        "colab": {
          "base_uri": "https://localhost:8080/",
          "height": 34
        },
        "outputId": "0f8c9fcb-fbda-4c4d-d031-5855910bb758"
      },
      "source": [
        "accuracy=lm.score(X_test.reshape(-1,1),Y_test.reshape(-1,1))\n",
        "print(accuracy*100,'%')"
      ],
      "execution_count": 85,
      "outputs": [
        {
          "output_type": "stream",
          "text": [
            "92.40850478446319 %\n"
          ],
          "name": "stdout"
        }
      ]
    }
  ]
}